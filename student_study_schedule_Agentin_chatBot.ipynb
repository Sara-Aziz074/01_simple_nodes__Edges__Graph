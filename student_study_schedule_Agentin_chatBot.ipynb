{
  "nbformat": 4,
  "nbformat_minor": 0,
  "metadata": {
    "colab": {
      "provenance": [],
      "authorship_tag": "ABX9TyNlrI3DwSB7HYrmuD64Fkft",
      "include_colab_link": true
    },
    "kernelspec": {
      "name": "python3",
      "display_name": "Python 3"
    },
    "language_info": {
      "name": "python"
    }
  },
  "cells": [
    {
      "cell_type": "markdown",
      "metadata": {
        "id": "view-in-github",
        "colab_type": "text"
      },
      "source": [
        "<a href=\"https://colab.research.google.com/github/Sara-Aziz074/01_simple_nodes__Edges__Graph/blob/main/student_study_schedule_Agentin_chatBot.ipynb\" target=\"_parent\"><img src=\"https://colab.research.google.com/assets/colab-badge.svg\" alt=\"Open In Colab\"/></a>"
      ]
    },
    {
      "cell_type": "code",
      "source": [
        "%%capture --no-stderr\n",
        "%pip install --quiet -U langchain_google_genai langchain_core langgraph"
      ],
      "metadata": {
        "id": "FawZN0zqonV_"
      },
      "execution_count": 50,
      "outputs": []
    },
    {
      "cell_type": "code",
      "source": [
        "from google.colab import userdata\n",
        "GEMINI_API_KEY = userdata.get('GEMINI_API_KEY')"
      ],
      "metadata": {
        "id": "3Ac9i-b2owep"
      },
      "execution_count": 51,
      "outputs": []
    },
    {
      "cell_type": "code",
      "source": [
        "from google.colab import userdata\n",
        "LANGCHAIN_API_KEY = userdata.get('LANGCHAIN_API_KEY')"
      ],
      "metadata": {
        "id": "7vRNrYcmo3s1"
      },
      "execution_count": 52,
      "outputs": []
    },
    {
      "cell_type": "code",
      "source": [
        "from langchain_google_genai import ChatGoogleGenerativeAI\n",
        "\n",
        "def greet_user() -> str:\n",
        "    \"\"\"\n",
        "    Provides a greeting message for creating a study schedule.\n",
        "\n",
        "    Returns:\n",
        "        str: A greeting message.\n",
        "    \"\"\"\n",
        "    return \"Hello! Ready to create your study schedule? Let's plan for success and achieve your goals together!\"\n",
        "\n",
        "\n",
        "from typing import List\n",
        "\n",
        "from datetime import time, date, datetime\n",
        "\n",
        "def create_study_schedule(subject_names: List[str], subject_std_hrs: List[str], start_dates: List[date]) -> dict:\n",
        "    \"\"\"\n",
        "    Create a study schedule.\n",
        "\n",
        "    Args:\n",
        "        subject_names: List of subject names (str).\n",
        "        subject_std_hrs: List of study hours for each subject (str format).\n",
        "        start_dates: List of start dates for each subject (date format).\n",
        "\n",
        "    Returns:\n",
        "        dict: A dictionary representing the study schedule.\n",
        "    \"\"\"\n",
        "    study_schedule = []\n",
        "    for i in range(len(subject_names)):\n",
        "        # Parse time string to datetime.time object\n",
        "        time_obj = datetime.strptime(subject_std_hrs[i], \"%H:%M:%S\").time()\n",
        "        study_schedule.append({\n",
        "            \"subject_name\": subject_names[i],\n",
        "            \"subject_std_hrs\": time_obj,\n",
        "            \"start_date\": start_dates[i]\n",
        "        })\n",
        "    return {\"schedule\": study_schedule}\n",
        "\n",
        "\n",
        "\n",
        "import random\n",
        "\n",
        "def motivate_user() -> str:\n",
        "    \"\"\"\n",
        "    Provides a random motivational message for the user.\n",
        "\n",
        "    Returns:\n",
        "        str: A motivational message.\n",
        "    \"\"\"\n",
        "    quotes = [\n",
        "        \"Believe you can, and you're halfway there.\",\n",
        "        \"Success is not final, failure is not fatal: It is the courage to continue that counts.\",\n",
        "        \"Hardships often prepare ordinary people for an extraordinary destiny.\",\n",
        "        \"Don't watch the clock; do what it does. Keep going.\",\n",
        "        \"The future depends on what you do today.\",\n",
        "        \"It does not matter how slowly you go as long as you do not stop.\",\n",
        "        \"Your limitation—it’s only your imagination.\",\n",
        "        \"Push yourself, because no one else is going to do it for you.\",\n",
        "        \"Sometimes later becomes never. Do it now.\",\n",
        "        \"Dream it. Wish it. Do it.\"\n",
        "    ]\n",
        "    return random.choice(quotes)\n",
        "\n",
        "\n",
        "\n",
        "tools = [greet_user, create_study_schedule, motivate_user]\n",
        "llm = ChatGoogleGenerativeAI(model=\"gemini-1.5-flash\", api_key = GEMINI_API_KEY)\n",
        "llm_with_tools = llm.bind_tools(tools)\n",
        "\n",
        "print(greet_user())\n",
        "print(create_study_schedule)\n",
        "\n",
        "print(motivate_user())\n",
        "\n"
      ],
      "metadata": {
        "colab": {
          "base_uri": "https://localhost:8080/"
        },
        "id": "uTyC7Pnw_KC5",
        "outputId": "53d73a83-c319-48a2-ded6-626bd0fefcee"
      },
      "execution_count": 53,
      "outputs": [
        {
          "output_type": "stream",
          "name": "stdout",
          "text": [
            "Hello! Ready to create your study schedule? Let's plan for success and achieve your goals together!\n",
            "<function create_study_schedule at 0x7cd8d42832e0>\n",
            "Success is not final, failure is not fatal: It is the courage to continue that counts.\n"
          ]
        }
      ]
    },
    {
      "cell_type": "code",
      "source": [
        "from langgraph.graph import MessagesState\n",
        "from langchain_core.messages import AIMessage, HumanMessage, SystemMessage\n",
        "\n",
        "# System message\n",
        "sys_msg = SystemMessage(content=\"You are a helpful assistant tasked with only create a study schedule.\")\n",
        "\n",
        "# Node\n",
        "def assistant(state: MessagesState) -> MessagesState:\n",
        "\n",
        "   return {\"messages\": [llm_with_tools.invoke([sys_msg] + state[\"messages\"])]}"
      ],
      "metadata": {
        "id": "o3d2lVWoUuwH"
      },
      "execution_count": 54,
      "outputs": []
    },
    {
      "cell_type": "code",
      "source": [
        "from langgraph.graph import START, StateGraph\n",
        "from langgraph.prebuilt import tools_condition, ToolNode\n",
        "from IPython.display import Image, display\n",
        "from langgraph.graph.state import CompiledStateGraph\n",
        "\n",
        "# Graph\n",
        "builder: StateGraph = StateGraph(MessagesState)\n",
        "\n",
        "# Define nodes: these do the work\n",
        "builder.add_node(\"assistant\", assistant)\n",
        "builder.add_node(\"tools\", ToolNode(tools))\n",
        "\n",
        "# Define edges: these determine how the control flow moves\n",
        "builder.add_edge(START, \"assistant\")\n",
        "builder.add_conditional_edges(\n",
        "    \"assistant\",\n",
        "    # If the latest message (result) from assistant is a tool call -> tools_condition routes to tools\n",
        "    # If the latest message (result) from assistant is a not a tool call -> tools_condition routes to END\n",
        "    tools_condition,\n",
        ")\n",
        "builder.add_edge(\"tools\", \"assistant\")\n",
        "react_graph: CompiledStateGraph = builder.compile()\n",
        "\n",
        "# Show\n",
        "display(Image(react_graph.get_graph(xray=True).draw_mermaid_png()))"
      ],
      "metadata": {
        "colab": {
          "base_uri": "https://localhost:8080/",
          "height": 266
        },
        "id": "2eqGTz4gVEIo",
        "outputId": "d3ae0c13-c423-4bdc-a79e-62fa05775236"
      },
      "execution_count": 55,
      "outputs": [
        {
          "output_type": "display_data",
          "data": {
            "image/png": "[encoded data removed]",
            "text/plain": [
              "<IPython.core.display.Image object>"
            ]
          },
          "metadata": {}
        }
      ]
    },
    {
      "cell_type": "code",
      "source": [
        "#messages = [HumanMessage(content=\"create my schedule my subject are python 02:00:00 star date 2025-01-28- end date 2025-02-20, sql 01:00:00 star date 2025-01-29- end date 2025-02-10, langgraph 01:10:00 star date 2025-01-28- end date 2025-02-20.\")]"
      ],
      "metadata": {
        "id": "mOet5XJmaVNQ"
      },
      "execution_count": null,
      "outputs": []
    },
    {
      "cell_type": "code",
      "source": [
        "messages = [HumanMessage(content=\"create my schedule my subject are python 02:00:00 star date 2025-01-28- end date 2025-02-20, sql 01:00:00 star date 2025-01-29- end date 2025-02-10, langgraph 01:10:00 star date 2025-01-28- end date 2025-02-20.\")]\n",
        "\n",
        "messages = react_graph.invoke({\"messages\": messages})\n",
        "for m in messages['messages']:\n",
        "    m.pretty_print()"
      ],
      "metadata": {
        "colab": {
          "base_uri": "https://localhost:8080/"
        },
        "id": "rNH_L7z8VKzh",
        "outputId": "fc02029a-7574-4495-af16-ce36cc9b1230"
      },
      "execution_count": 56,
      "outputs": [
        {
          "output_type": "stream",
          "name": "stdout",
          "text": [
            "================================\u001b[1m Human Message \u001b[0m=================================\n",
            "\n",
            "create my schedule my subject are python 02:00:00 star date 2025-01-28- end date 2025-02-20, sql 01:00:00 star date 2025-01-29- end date 2025-02-10, langgraph 01:10:00 star date 2025-01-28- end date 2025-02-20.\n",
            "==================================\u001b[1m Ai Message \u001b[0m==================================\n",
            "Tool Calls:\n",
            "  create_study_schedule (182c03c0-c084-4166-be62-2a4a665620ab)\n",
            " Call ID: 182c03c0-c084-4166-be62-2a4a665620ab\n",
            "  Args:\n",
            "    subject_names: ['python', 'sql', 'langgraph']\n",
            "    start_dates: ['2025-01-28', '2025-01-29', '2025-01-28']\n",
            "    subject_std_hrs: ['02:00:00', '01:00:00', '01:10:00']\n",
            "=================================\u001b[1m Tool Message \u001b[0m=================================\n",
            "Name: create_study_schedule\n",
            "\n",
            "{'schedule': [{'subject_name': 'python', 'subject_std_hrs': datetime.time(2, 0), 'start_date': datetime.date(2025, 1, 28)}, {'subject_name': 'sql', 'subject_std_hrs': datetime.time(1, 0), 'start_date': datetime.date(2025, 1, 29)}, {'subject_name': 'langgraph', 'subject_std_hrs': datetime.time(1, 10), 'start_date': datetime.date(2025, 1, 28)}]}\n",
            "==================================\u001b[1m Ai Message \u001b[0m==================================\n",
            "\n",
            "OK. Here's your study schedule:\n",
            "\n",
            "**Subject:** Python\n",
            "**Study Hours:** 2:00:00\n",
            "**Start Date:** 2025-01-28\n",
            "**End Date:** 2025-02-20\n",
            "\n",
            "**Subject:** SQL\n",
            "**Study Hours:** 1:00:00\n",
            "**Start Date:** 2025-01-29\n",
            "**End Date:** 2025-02-10\n",
            "\n",
            "**Subject:** Langgraph\n",
            "**Study Hours:** 1:10:00\n",
            "**Start Date:** 2025-01-28\n",
            "**End Date:** 2025-02-20\n",
            "\n",
            "Please note that the schedule is created based on the information you provided.  You may need to adjust it based on your own preferences and availability.\n"
          ]
        }
      ]
    },
    {
      "cell_type": "markdown",
      "source": [
        "# **save memory**"
      ],
      "metadata": {
        "id": "m2dozawUlgkI"
      }
    },
    {
      "cell_type": "code",
      "source": [
        "from langgraph.checkpoint.memory import MemorySaver\n",
        "memory: MemorySaver = MemorySaver()\n",
        "react_graph_memory: CompiledStateGraph = builder.compile(checkpointer=memory)"
      ],
      "metadata": {
        "id": "tDF7KNfFlfvA"
      },
      "execution_count": 57,
      "outputs": []
    },
    {
      "cell_type": "code",
      "source": [
        "# Specify a thread\n",
        "config1 = {\"configurable\": {\"thread_id\": \"1\"}}\n"
      ],
      "metadata": {
        "id": "rhE1K3mqluS0"
      },
      "execution_count": 58,
      "outputs": []
    },
    {
      "cell_type": "code",
      "source": [
        "\n",
        "\n",
        "# Specify an input\n",
        "messages = [HumanMessage(content=\"create my schedule my subject are python 02:00:00 star date 2025-01-28- end date 2025-02-20, sql 01:00:00 star date 2025-01-29- end date 2025-02-10, langgraph 01:10:00 star date 2025-01-28- end date 2025-02-20.\")]\n",
        "\n",
        "# Run\n",
        "messages = react_graph_memory.invoke({\"messages\": messages},config1)\n",
        "for m in messages['messages']:\n",
        "    m.pretty_print()"
      ],
      "metadata": {
        "colab": {
          "base_uri": "https://localhost:8080/"
        },
        "id": "O7Tlk6Hglvpc",
        "outputId": "9e148d09-f44c-48d3-82af-5b644f10ef33"
      },
      "execution_count": 59,
      "outputs": [
        {
          "output_type": "stream",
          "name": "stdout",
          "text": [
            "================================\u001b[1m Human Message \u001b[0m=================================\n",
            "\n",
            "create my schedule my subject are python 02:00:00 star date 2025-01-28- end date 2025-02-20, sql 01:00:00 star date 2025-01-29- end date 2025-02-10, langgraph 01:10:00 star date 2025-01-28- end date 2025-02-20.\n",
            "==================================\u001b[1m Ai Message \u001b[0m==================================\n",
            "Tool Calls:\n",
            "  create_study_schedule (a4b419ec-60e5-4af8-9c98-7d7dd035b368)\n",
            " Call ID: a4b419ec-60e5-4af8-9c98-7d7dd035b368\n",
            "  Args:\n",
            "    subject_names: ['python', 'sql', 'langgraph']\n",
            "    start_dates: ['2025-01-28', '2025-01-29', '2025-01-28']\n",
            "    subject_std_hrs: ['02:00:00', '01:00:00', '01:10:00']\n",
            "=================================\u001b[1m Tool Message \u001b[0m=================================\n",
            "Name: create_study_schedule\n",
            "\n",
            "{'schedule': [{'subject_name': 'python', 'subject_std_hrs': datetime.time(2, 0), 'start_date': datetime.date(2025, 1, 28)}, {'subject_name': 'sql', 'subject_std_hrs': datetime.time(1, 0), 'start_date': datetime.date(2025, 1, 29)}, {'subject_name': 'langgraph', 'subject_std_hrs': datetime.time(1, 10), 'start_date': datetime.date(2025, 1, 28)}]}\n",
            "==================================\u001b[1m Ai Message \u001b[0m==================================\n",
            "\n",
            "OK. Here's your study schedule:\n",
            "\n",
            "**Subject:** Python\n",
            "**Study Hours:** 2:00:00\n",
            "**Start Date:** 2025-01-28\n",
            "**End Date:** 2025-02-20\n",
            "\n",
            "**Subject:** SQL\n",
            "**Study Hours:** 1:00:00\n",
            "**Start Date:** 2025-01-29\n",
            "**End Date:** 2025-02-10\n",
            "\n",
            "**Subject:** Langgraph\n",
            "**Study Hours:** 1:10:00\n",
            "**Start Date:** 2025-01-28\n",
            "**End Date:** 2025-02-20\n",
            "\n",
            "Please note that this schedule is a basic outline and you may need to adjust it based on your individual needs and preferences.  Remember to take breaks and don't overwork yourself!\n"
          ]
        }
      ]
    },
    {
      "cell_type": "code",
      "source": [
        "messages = [HumanMessage(content=\"Add that schdule  english 00:30:00 star date 2025-01-28- end date 2025-02-20 .\")]\n",
        "\n",
        "messages = react_graph_memory.invoke({\"messages\": messages}, config1)\n",
        "for m in messages['messages']:\n",
        "    m.pretty_print()"
      ],
      "metadata": {
        "colab": {
          "base_uri": "https://localhost:8080/"
        },
        "id": "EQ6BovhGn8pL",
        "outputId": "554c36e7-c6e8-4f76-91df-9ddf23d1d1cb"
      },
      "execution_count": 60,
      "outputs": [
        {
          "output_type": "stream",
          "name": "stdout",
          "text": [
            "================================\u001b[1m Human Message \u001b[0m=================================\n",
            "\n",
            "create my schedule my subject are python 02:00:00 star date 2025-01-28- end date 2025-02-20, sql 01:00:00 star date 2025-01-29- end date 2025-02-10, langgraph 01:10:00 star date 2025-01-28- end date 2025-02-20.\n",
            "==================================\u001b[1m Ai Message \u001b[0m==================================\n",
            "Tool Calls:\n",
            "  create_study_schedule (a4b419ec-60e5-4af8-9c98-7d7dd035b368)\n",
            " Call ID: a4b419ec-60e5-4af8-9c98-7d7dd035b368\n",
            "  Args:\n",
            "    subject_names: ['python', 'sql', 'langgraph']\n",
            "    start_dates: ['2025-01-28', '2025-01-29', '2025-01-28']\n",
            "    subject_std_hrs: ['02:00:00', '01:00:00', '01:10:00']\n",
            "=================================\u001b[1m Tool Message \u001b[0m=================================\n",
            "Name: create_study_schedule\n",
            "\n",
            "{'schedule': [{'subject_name': 'python', 'subject_std_hrs': datetime.time(2, 0), 'start_date': datetime.date(2025, 1, 28)}, {'subject_name': 'sql', 'subject_std_hrs': datetime.time(1, 0), 'start_date': datetime.date(2025, 1, 29)}, {'subject_name': 'langgraph', 'subject_std_hrs': datetime.time(1, 10), 'start_date': datetime.date(2025, 1, 28)}]}\n",
            "==================================\u001b[1m Ai Message \u001b[0m==================================\n",
            "\n",
            "OK. Here's your study schedule:\n",
            "\n",
            "**Subject:** Python\n",
            "**Study Hours:** 2:00:00\n",
            "**Start Date:** 2025-01-28\n",
            "**End Date:** 2025-02-20\n",
            "\n",
            "**Subject:** SQL\n",
            "**Study Hours:** 1:00:00\n",
            "**Start Date:** 2025-01-29\n",
            "**End Date:** 2025-02-10\n",
            "\n",
            "**Subject:** Langgraph\n",
            "**Study Hours:** 1:10:00\n",
            "**Start Date:** 2025-01-28\n",
            "**End Date:** 2025-02-20\n",
            "\n",
            "Please note that this schedule is a basic outline and you may need to adjust it based on your individual needs and preferences.  Remember to take breaks and don't overwork yourself!\n",
            "================================\u001b[1m Human Message \u001b[0m=================================\n",
            "\n",
            "Add that schdule  english 00:30:00 star date 2025-01-28- end date 2025-02-20 .\n",
            "==================================\u001b[1m Ai Message \u001b[0m==================================\n",
            "Tool Calls:\n",
            "  create_study_schedule (4e18fbff-6a43-4c2e-b58c-871f2e59e8d7)\n",
            " Call ID: 4e18fbff-6a43-4c2e-b58c-871f2e59e8d7\n",
            "  Args:\n",
            "    subject_names: ['python', 'sql', 'langgraph', 'english']\n",
            "    start_dates: ['2025-01-28', '2025-01-29', '2025-01-28', '2025-01-28']\n",
            "    subject_std_hrs: ['02:00:00', '01:00:00', '01:10:00', '00:30:00']\n",
            "=================================\u001b[1m Tool Message \u001b[0m=================================\n",
            "Name: create_study_schedule\n",
            "\n",
            "{'schedule': [{'subject_name': 'python', 'subject_std_hrs': datetime.time(2, 0), 'start_date': datetime.date(2025, 1, 28)}, {'subject_name': 'sql', 'subject_std_hrs': datetime.time(1, 0), 'start_date': datetime.date(2025, 1, 29)}, {'subject_name': 'langgraph', 'subject_std_hrs': datetime.time(1, 10), 'start_date': datetime.date(2025, 1, 28)}, {'subject_name': 'english', 'subject_std_hrs': datetime.time(0, 30), 'start_date': datetime.date(2025, 1, 28)}]}\n",
            "==================================\u001b[1m Ai Message \u001b[0m==================================\n",
            "\n",
            "OK. Here's your updated study schedule:\n",
            "\n",
            "**Subject:** Python\n",
            "**Study Hours:** 2:00:00\n",
            "**Start Date:** 2025-01-28\n",
            "**End Date:** 2025-02-20\n",
            "\n",
            "**Subject:** SQL\n",
            "**Study Hours:** 1:00:00\n",
            "**Start Date:** 2025-01-29\n",
            "**End Date:** 2025-02-10\n",
            "\n",
            "**Subject:** Langgraph\n",
            "**Study Hours:** 1:10:00\n",
            "**Start Date:** 2025-01-28\n",
            "**End Date:** 2025-02-20\n",
            "\n",
            "**Subject:** English\n",
            "**Study Hours:** 0:30:00\n",
            "**Start Date:** 2025-01-28\n",
            "**End Date:** 2025-02-20\n",
            "\n",
            "Remember to adjust this schedule as needed to fit your personal learning style and commitments.  Good luck with your studies!\n"
          ]
        }
      ]
    }
  ]
}