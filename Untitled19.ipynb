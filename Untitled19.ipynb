{
  "nbformat": 4,
  "nbformat_minor": 0,
  "metadata": {
    "colab": {
      "provenance": [],
      "authorship_tag": "ABX9TyP81kuM09fMoL9j5EhcGAD3",
      "include_colab_link": true
    },
    "kernelspec": {
      "name": "python3",
      "display_name": "Python 3"
    },
    "language_info": {
      "name": "python"
    }
  },
  "cells": [
    {
      "cell_type": "markdown",
      "metadata": {
        "id": "view-in-github",
        "colab_type": "text"
      },
      "source": [
        "<a href=\"https://colab.research.google.com/github/Sara-Aziz074/01_simple_nodes__Edges__Graph/blob/main/Untitled19.ipynb\" target=\"_parent\"><img src=\"https://colab.research.google.com/assets/colab-badge.svg\" alt=\"Open In Colab\"/></a>"
      ]
    },
    {
      "cell_type": "code",
      "source": [
        "%%capture --no-stderr\n",
        "%pip install --quiet -U langchain_google_genai langchain_core langgraph"
      ],
      "metadata": {
        "id": "2caKsFs9WpAc"
      },
      "execution_count": 38,
      "outputs": []
    },
    {
      "cell_type": "code",
      "source": [
        "from google.colab import userdata\n",
        "GEMINI_API_KEY = userdata.get('GEMINI_API_KEY')"
      ],
      "metadata": {
        "id": "_OwD2dWDWr6W"
      },
      "execution_count": 39,
      "outputs": []
    },
    {
      "cell_type": "code",
      "source": [
        "from google.colab import userdata\n",
        "LANGCHAIN_API_KEY = userdata.get('LANGCHAIN_API_KEY')"
      ],
      "metadata": {
        "id": "va1vMi5BWu9S"
      },
      "execution_count": 40,
      "outputs": []
    },
    {
      "cell_type": "code",
      "source": [
        "def greet_user() -> str:   #great the user by their name\n",
        "    \"\"\"\n",
        "    Prompts the user to enter their name and returns a personalized greeting.\n",
        "    Returns:\n",
        "        str: A greeting message with the user's name.\n",
        "    \"\"\"\n",
        "    user_name = input(\"Enter your name: \")\n",
        "    return f\"Welcome {user_name}! Create your study schedule.\"\n",
        "\n",
        "greet_user()"
      ],
      "metadata": {
        "id": "1s90mabPgyFx",
        "colab": {
          "base_uri": "https://localhost:8080/",
          "height": 53
        },
        "outputId": "e40dff3b-6f14-4370-d816-c5dba88ec74f"
      },
      "execution_count": 41,
      "outputs": [
        {
          "name": "stdout",
          "output_type": "stream",
          "text": [
            "Enter your name: w\n"
          ]
        },
        {
          "output_type": "execute_result",
          "data": {
            "text/plain": [
              "'Welcome w! Create your study schedule.'"
            ],
            "application/vnd.google.colaboratory.intrinsic+json": {
              "type": "string"
            }
          },
          "metadata": {},
          "execution_count": 41
        }
      ]
    },
    {
      "cell_type": "code",
      "source": [
        "def study_schedule () -> dict:  # Create a study schedule\n",
        "  \"\"\"\n",
        "  Creates a study schedule.\n",
        "  Args:\n",
        "    totl_nbr_subj : first int\n",
        "    subj_name : second str\n",
        "    subj_study_hour : third float\n",
        "    start_date : forth str\n",
        "  \"\"\"\n",
        "  totl_nbr_subj = int(input(\"Enter the total number of subjects you want to study: \"))\n",
        "\n",
        "  for i in range(totl_nbr_subj):\n",
        "    subject_name = input(f\"Enter the name of subject {i + 1}: \")\n",
        "    subject_study_hour = float(input(f\"Enter the number of hours you want to study for {subject_name}: \"))\n",
        "    start_date = input(f\"Enter the starting date for {subject_name} (YYYY-MM-DD): \")\n",
        "  return totl_nbr_subj, subject_name, subject_study_hour, start_date\n",
        "\n",
        "study_schedule ()"
      ],
      "metadata": {
        "colab": {
          "base_uri": "https://localhost:8080/"
        },
        "id": "73y8YQsjhLGn",
        "outputId": "bac4e40c-8d9e-42e3-f049-137184ceb10c"
      },
      "execution_count": 42,
      "outputs": [
        {
          "name": "stdout",
          "output_type": "stream",
          "text": [
            "Enter the total number of subjects you want to study: 1\n",
            "Enter the name of subject 1: e\n",
            "Enter the number of hours you want to study for e: 1\n",
            "Enter the starting date for e (YYYY-MM-DD): 20\n"
          ]
        },
        {
          "output_type": "execute_result",
          "data": {
            "text/plain": [
              "(1, 'e', 1.0, '20')"
            ]
          },
          "metadata": {},
          "execution_count": 42
        }
      ]
    },
    {
      "cell_type": "code",
      "source": [
        "from langchain_google_genai import ChatGoogleGenerativeAI\n",
        "def greet_user() -> str:   #great the user by their name\n",
        "    \"\"\"\n",
        "    Prompts the user to enter their name and returns a personalized greeting.\n",
        "    Returns:\n",
        "        str: A greeting message with the user's name.\n",
        "    \"\"\"\n",
        "    user_name = input(\"Enter your name: \")\n",
        "    return f\"Welcome {user_name}! Create your study schedule.\"\n",
        "\n",
        "\n",
        "\n",
        "def study_schedule () -> dict:  # Create a study schedule\n",
        "  \"\"\"\n",
        "  Creates a study schedule.\n",
        "  Args:\n",
        "    totl_nbr_subj : first int\n",
        "    subj_name : second str\n",
        "    subj_study_hour : third float\n",
        "    start_date : forth str\n",
        "  \"\"\"\n",
        "  totl_nbr_subj = input(\"Enter the total number of subjects you want to study: \")\n",
        "\n",
        "  for i in range(totl_nbr_subj):\n",
        "    subject_name = input(f\"Enter the name of subject {i + 1}: \")\n",
        "    subject_study_hour = input(f\"Enter the number of hours you want to study for {subject_name}: \")\n",
        "    start_date = input(f\"Enter the starting date for {subject_name} (YYYY-MM-DD): \")\n",
        "  return totl_nbr_subj, subject_name, subject_study_hour, start_date\n",
        "\n",
        "\n",
        "\n",
        "\n",
        "tools = [greet_user,study_schedule]\n",
        "llm = ChatGoogleGenerativeAI(model=\"gemini-1.5-flash\", api_key = GEMINI_API_KEY)\n",
        "llm_with_tools = llm.bind_tools(tools)\n"
      ],
      "metadata": {
        "id": "1z5zgDTS8l7Q"
      },
      "execution_count": 7,
      "outputs": []
    },
    {
      "cell_type": "code",
      "source": [
        "from langchain.tools import tool\n",
        "from langchain_google_genai import ChatGoogleGenerativeAI\n",
        "\n",
        "# Define the tools\n",
        "@tool\n",
        "def greet_user(user_name: str) -> str:\n",
        "    \"\"\"\n",
        "    Greets the user with a personalized message.\n",
        "    Args:\n",
        "        user_name (str): The name of the user.\n",
        "    Returns:\n",
        "        str: A greeting message.\n",
        "    \"\"\"\n",
        "    return f\"Welcome {user_name}! Let's create your study schedule.\"\n",
        "\n",
        "@tool\n",
        "def ask_subject_details(total_subjects: int) -> list:\n",
        "    \"\"\"\n",
        "    Asks the user for details about the subjects they want to include in the schedule.\n",
        "    Args:\n",
        "        total_subjects (int): The total number of subjects.\n",
        "    Returns:\n",
        "        list: A list of dictionaries containing subject details.\n",
        "    \"\"\"\n",
        "    subjects = []\n",
        "    for i in range(total_subjects):\n",
        "        subject_name = input(f\"Enter the name of subject {i + 1}: \")\n",
        "        study_hours = float(input(f\"Enter the number of hours you want to study for {subject_name}: \"))\n",
        "        start_date = input(f\"Enter the starting date for {subject_name} (YYYY-MM-DD): \")\n",
        "        subjects.append({\n",
        "            \"name\": subject_name,\n",
        "            \"hours\": study_hours,\n",
        "            \"start_date\": start_date\n",
        "        })\n",
        "    return subjects\n",
        "\n",
        "@tool\n",
        "def create_schedule(subjects: list) -> dict:\n",
        "    \"\"\"\n",
        "    Creates a study schedule from the provided subject details.\n",
        "    Args:\n",
        "        subjects (list): A list of subject details.\n",
        "    Returns:\n",
        "        dict: The completed study schedule.\n",
        "    \"\"\"\n",
        "    schedule = {}\n",
        "    for subject in subjects:\n",
        "        schedule[subject[\"name\"]] = {\n",
        "            \"study_hours\": subject[\"hours\"],\n",
        "            \"start_date\": subject[\"start_date\"]\n",
        "        }\n",
        "    return {\"message\": \"Your study schedule has been created!\", \"schedule\": schedule}\n",
        "\n",
        "# Initialize the LLM\n",
        "llm = ChatGoogleGenerativeAI(model=\"gemini-1.5-flash\", api_key=GEMINI_API_KEY)\n",
        "\n",
        "# Bind tools\n",
        "tools = [greet_user, ask_subject_details, create_schedule]\n",
        "llm_with_tools = llm.bind_tools(tools)\n",
        "\n",
        "# Workflow execution\n",
        "user_name = input(\"What's your name? \")\n",
        "total_subjects = int(input(\"How many subjects do you want to create a schedule for? \"))\n",
        "\n",
        "# Call tools\n",
        "print(greet_user({\"user_name\": user_name}))  # Pass input as a dictionary\n",
        "subject_details = ask_subject_details({\"total_subjects\": total_subjects})  # Pass input as a dictionary\n",
        "schedule = create_schedule({\"subjects\": subject_details})  # Pass input as a dictionary\n",
        "\n",
        "# Display the schedule\n",
        "print(schedule)\n",
        "\n",
        "\n"
      ],
      "metadata": {
        "colab": {
          "base_uri": "https://localhost:8080/"
        },
        "id": "hVNaK3yD_xZm",
        "outputId": "a68c6704-7f6d-4549-ec24-9bda04df866e"
      },
      "execution_count": 43,
      "outputs": [
        {
          "output_type": "stream",
          "name": "stdout",
          "text": [
            "What's your name? er\n",
            "How many subjects do you want to create a schedule for? 1\n",
            "Welcome er! Let's create your study schedule.\n",
            "Enter the name of subject 1: n\n",
            "Enter the number of hours you want to study for n: 1\n",
            "Enter the starting date for n (YYYY-MM-DD): 40\n",
            "{'message': 'Your study schedule has been created!', 'schedule': {'n': {'study_hours': 1.0, 'start_date': '40'}}}\n"
          ]
        }
      ]
    },
    {
      "source": [
        "from langgraph.graph import MessagesState\n",
        "from langchain_core.messages import AIMessage, HumanMessage, SystemMessage\n",
        "\n",
        "# System message\n",
        "sys_msg = SystemMessage(content=\"You are agentic chatbot your task is  create   student study schdule.\")\n",
        "\n",
        "\n",
        "\n",
        "# Node\n",
        "def assistant(state: MessagesState) -> MessagesState:\n",
        "    return {\"messages\": [llm_with_tools.invoke([sys_msg] + state[\"messages\"])]}"
      ],
      "cell_type": "code",
      "metadata": {
        "id": "IqOTvMBajwH0"
      },
      "execution_count": 44,
      "outputs": []
    },
    {
      "cell_type": "code",
      "source": [
        "from langgraph.graph import START, StateGraph, END\n",
        "from langgraph.prebuilt import tools_condition, ToolNode\n",
        "from IPython.display import Image, display\n",
        "from langgraph.graph.state import CompiledStateGraph\n",
        "from langgraph.checkpoint.memory import MemorySaver\n",
        "from langchain.tools import tool\n",
        "from langchain_google_genai import ChatGoogleGenerativeAI\n",
        "import json\n",
        "from datetime import datetime\n",
        "\n",
        "# Define tools\n",
        "@tool\n",
        "def greet_user(user_name: str) -> str:\n",
        "    \"\"\"\n",
        "    Greets the user with a personalized message.\n",
        "    Args:\n",
        "        user_name (str): The name of the user.\n",
        "    Returns:\n",
        "        str: A greeting message.\n",
        "    \"\"\"\n",
        "    return f\"Welcome {user_name}! Let's create your study schedule.\"\n",
        "\n",
        "@tool\n",
        "def ask_subject_details(total_subjects: int) -> list:\n",
        "    \"\"\"\n",
        "    Collects subject details for the study schedule.\n",
        "    Args:\n",
        "        total_subjects (int): Number of subjects the user wants to schedule.\n",
        "    Returns:\n",
        "        list: A list of dictionaries containing subject details.\n",
        "    \"\"\"\n",
        "    subjects = []\n",
        "    for i in range(total_subjects):\n",
        "        subject_name = input(f\"Enter the name of subject {i + 1}: \")\n",
        "        study_hours = float(input(f\"Enter the number of hours for {subject_name}: \"))\n",
        "        start_date = input(f\"Enter the start date for {subject_name} (YYYY-MM-DD): \")\n",
        "        subjects.append({\"name\": subject_name, \"hours\": study_hours, \"start_date\": start_date})\n",
        "    return subjects\n",
        "\n",
        "@tool\n",
        "def create_schedule(subjects: list) -> dict:\n",
        "    \"\"\"\n",
        "    Creates a structured study schedule based on user input.\n",
        "    Args:\n",
        "        subjects (list): A list of dictionaries with subject details.\n",
        "    Returns:\n",
        "        dict: A study schedule dictionary.\n",
        "    \"\"\"\n",
        "    schedule = {subj[\"name\"]: {\"study_hours\": subj[\"hours\"], \"start_date\": subj[\"start_date\"]} for subj in subjects}\n",
        "    return {\"message\": \"Your study schedule has been created!\", \"schedule\": schedule}\n",
        "\n",
        "@tool\n",
        "def validate_input(subjects: list) -> str:\n",
        "    \"\"\"\n",
        "    Validates user input for the study schedule.\n",
        "    Args:\n",
        "        subjects (list): A list of dictionaries containing subject details.\n",
        "    Returns:\n",
        "        str: A success or error message.\n",
        "    \"\"\"\n",
        "    for subj in subjects:\n",
        "        try:\n",
        "            datetime.strptime(subj[\"start_date\"], \"%Y-%m-%d\")\n",
        "        except ValueError:\n",
        "            return f\"Invalid date format for {subj['name']}. Please use YYYY-MM-DD.\"\n",
        "    return \"All inputs are valid.\"\n",
        "\n",
        "@tool\n",
        "def save_schedule(schedule: dict) -> str:\n",
        "    \"\"\"\n",
        "    Saves the schedule to a JSON file.\n",
        "    Args:\n",
        "        schedule (dict): The study schedule.\n",
        "    Returns:\n",
        "        str: A success message with the filename.\n",
        "    \"\"\"\n",
        "    filename = \"study_schedule.json\"\n",
        "    with open(filename, \"w\") as f:\n",
        "        json.dump(schedule, f, indent=4)\n",
        "    return f\"Schedule saved successfully as {filename}.\"\n",
        "\n",
        "@tool\n",
        "def view_schedule(schedule: dict) -> str:\n",
        "    \"\"\"\n",
        "    Displays the schedule in a user-friendly format.\n",
        "    Args:\n",
        "        schedule (dict): The study schedule.\n",
        "    Returns:\n",
        "        str: A formatted string of the schedule.\n",
        "    \"\"\"\n",
        "    schedule_str = \"Your Study Schedule:\\n\"\n",
        "    for subject, details in schedule.items():\n",
        "        schedule_str += f\"- {subject}: {details['study_hours']} hours starting on {details['start_date']}\\n\"\n",
        "    return schedule_str\n",
        "\n",
        "@tool\n",
        "def suggest_study_plan(total_hours: float, total_subjects: int) -> str:\n",
        "    \"\"\"\n",
        "    Suggests a study hour distribution plan.\n",
        "    Args:\n",
        "        total_hours (float): Total available hours for studying.\n",
        "        total_subjects (int): Number of subjects.\n",
        "    Returns:\n",
        "        str: Suggested hours per subject.\n",
        "    \"\"\"\n",
        "    hours_per_subject = total_hours / total_subjects\n",
        "    return f\"Suggested: {hours_per_subject:.2f} hours per subject.\"\n",
        "\n",
        "# Initialize LLM\n",
        "llm = ChatGoogleGenerativeAI(model=\"gemini-1.5-flash\", api_key=\"YOUR_GEMINI_API_KEY\")\n",
        "tools = [\n",
        "    greet_user,\n",
        "    ask_subject_details,\n",
        "    create_schedule,\n",
        "    validate_input,\n",
        "    save_schedule,\n",
        "    view_schedule,\n",
        "    suggest_study_plan,\n",
        "]\n",
        "\n",
        "# Memory Saver for state tracking\n",
        "memory: MemorySaver = MemorySaver()\n",
        "\n",
        "# Create the Graph\n",
        "builder: StateGraph = StateGraph(MessagesState)\n",
        "\n",
        "# Define Nodes\n",
        "builder.add_node(\"greet_user\", ToolNode(tools))\n",
        "builder.add_node(\"ask_subject_details\", ToolNode(tools))\n",
        "builder.add_node(\"create_schedule\", ToolNode(tools))\n",
        "builder.add_node(\"validate_input\", ToolNode(tools))\n",
        "builder.add_node(\"save_schedule\", ToolNode(tools))\n",
        "builder.add_node(\"view_schedule\", ToolNode(tools))\n",
        "builder.add_node(\"suggest_study_plan\", ToolNode(tools))\n",
        "\n",
        "# Define Edges\n",
        "builder.add_edge(START, \"greet_user\")\n",
        "builder.add_edge(\"greet_user\", \"ask_subject_details\")\n",
        "builder.add_edge(\"ask_subject_details\", \"validate_input\")\n",
        "builder.add_edge(\"validate_input\", \"suggest_study_plan\")\n",
        "builder.add_edge(\"suggest_study_plan\", \"create_schedule\")\n",
        "builder.add_edge(\"create_schedule\", \"save_schedule\")\n",
        "builder.add_edge(\"save_schedule\", \"view_schedule\")\n",
        "builder.add_edge(\"view_schedule\", END)\n",
        "\n",
        "# Compile the Graph\n",
        "graph: CompiledStateGraph = builder.compile()\n",
        "\n",
        "# Display the Graph\n",
        "display(Image(graph.get_graph().draw_mermaid_png()))\n"
      ],
      "metadata": {
        "colab": {
          "base_uri": "https://localhost:8080/",
          "height": 846
        },
        "id": "9Hd8KW0sCJyH",
        "outputId": "f7bbc3cd-1032-440a-9422-afb3aa56576d"
      },
      "execution_count": 59,
      "outputs": [
        {
          "output_type": "display_data",
          "data": {
            "image/png": "[encoded data removed]",
            "text/plain": [
              "<IPython.core.display.Image object>"
            ]
          },
          "metadata": {}
        }
      ]
    },
    {
      "cell_type": "code",
      "source": [
        "# Specify a thread\n",
        "config1 = {\"configurable\": {\"thread_id\": \"1\"}}\n"
      ],
      "metadata": {
        "id": "PhxTMsfIRIK2"
      },
      "execution_count": null,
      "outputs": []
    },
    {
      "source": [
        "messages = [HumanMessage(content=\"create my schedule\")]  # Create an instance of HumanMessage\n",
        "messages = react_graph_memory.invoke({\"messages\": messages}, config1)\n",
        "for m in messages['messages']:\n",
        "    m.pretty_print()\n"
      ],
      "cell_type": "code",
      "metadata": {
        "id": "Xro9xWpeTAWt"
      },
      "execution_count": null,
      "outputs": []
    },
    {
      "source": [
        "messages = [HumanMessage(content=\"my schedule\")]  # Create an instance of HumanMessage\n",
        "messages = react_graph_memory.invoke({\"messages\": messages}, config1)\n",
        "last_message = messages['messages'][-1]  # Access the messages correctly\n",
        "print(last_message)"
      ],
      "cell_type": "code",
      "metadata": {
        "id": "ZKrQK5PPR0LW"
      },
      "execution_count": null,
      "outputs": []
    }
  ]
}